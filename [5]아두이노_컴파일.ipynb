{
  "nbformat": 4,
  "nbformat_minor": 0,
  "metadata": {
    "colab": {
      "name": "[5]아두이노 컴파일",
      "provenance": [],
      "authorship_tag": "ABX9TyMaskV+/6Ox9pb1duC7xBTS",
      "include_colab_link": true
    },
    "kernelspec": {
      "name": "python3",
      "display_name": "Python 3"
    },
    "language_info": {
      "name": "python"
    }
  },
  "cells": [
    {
      "cell_type": "markdown",
      "metadata": {
        "id": "view-in-github",
        "colab_type": "text"
      },
      "source": [
        "<a href=\"https://colab.research.google.com/github/doyeo-n/-Capstone-8_code/blob/main/%5B5%5D%EC%95%84%EB%91%90%EC%9D%B4%EB%85%B8_%EC%BB%B4%ED%8C%8C%EC%9D%BC.ipynb\" target=\"_parent\"><img src=\"https://colab.research.google.com/assets/colab-badge.svg\" alt=\"Open In Colab\"/></a>"
      ]
    },
    {
      "cell_type": "code",
      "execution_count": null,
      "metadata": {
        "id": "bRKKF9KtyzES"
      },
      "outputs": [],
      "source": [
        "int red = 9;\n",
        "int green = 10;\n",
        "int blue = 11;\n",
        "int input_data;\n",
        "\n",
        "void setup() {\n",
        "  Serial.begin(9600);\n",
        "  pinMode(red, OUTPUT);\n",
        "  pinMode(green, OUTPUT);\n",
        "  pinMode(blue, OUTPUT);\n",
        "}\n",
        "\n",
        "void loop() {\n",
        "  // put your main code here, to run repeatedly:\n",
        "\n",
        "  while(Serial.available()){\n",
        "    input_data = Serial.read();\n",
        "  }\n",
        "\n",
        "  if(input_data == '3'){\n",
        "    digitalWrite(9, HIGH); //red on\n",
        "    digitalWrite(10, LOW);\n",
        "    digitalWrite(11, LOW);\n",
        "  }\n",
        "  else if(input_data == '2'){\n",
        "    analogWrite(10, 40); //orange on\n",
        "    analogWrite(9, 255);\n",
        "    digitalWrite(11, LOW);\n",
        "  }\n",
        "  else if(input_data == '1'){\n",
        "    digitalWrite(11, LOW); //yellow on\n",
        "    analogWrite(9, 255);\n",
        "    analogWrite(10, 100);\n",
        "  }\n",
        "  else if(input_data == '0'){\n",
        "    digitalWrite(9,LOW); //green on\n",
        "    digitalWrite(10,HIGH);\n",
        "    digitalWrite(11,LOW);\n",
        "  }\n",
        "}"
      ]
    }
  ]
}