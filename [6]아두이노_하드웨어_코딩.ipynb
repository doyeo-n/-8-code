{
  "nbformat": 4,
  "nbformat_minor": 0,
  "metadata": {
    "colab": {
      "name": "[6]아두이노 하드웨어 코딩",
      "provenance": [],
      "authorship_tag": "ABX9TyOUok+jyAtKLR/2Pe82HCXh",
      "include_colab_link": true
    },
    "kernelspec": {
      "name": "python3",
      "display_name": "Python 3"
    },
    "language_info": {
      "name": "python"
    }
  },
  "cells": [
    {
      "cell_type": "markdown",
      "metadata": {
        "id": "view-in-github",
        "colab_type": "text"
      },
      "source": [
        "<a href=\"https://colab.research.google.com/github/doyeo-n/-Capstone-8_code/blob/main/%5B6%5D%EC%95%84%EB%91%90%EC%9D%B4%EB%85%B8_%ED%95%98%EB%93%9C%EC%9B%A8%EC%96%B4_%EC%BD%94%EB%94%A9.ipynb\" target=\"_parent\"><img src=\"https://colab.research.google.com/assets/colab-badge.svg\" alt=\"Open In Colab\"/></a>"
      ]
    },
    {
      "cell_type": "code",
      "execution_count": null,
      "metadata": {
        "id": "_RRsEDJFy4Vl"
      },
      "outputs": [],
      "source": [
        "import serial\n",
        "import time\n",
        "import pandas as pd\n",
        "\n",
        "ser = serial.Serial('COM3', 9600)\n",
        "\n",
        "num = pd.read_csv('cyan_values_ndays.csv').iloc[0,0]\n",
        "\n",
        "while True:\n",
        "    if ser.readable():\n",
        "        if num >= 1000000:\n",
        "            val = '3'\n",
        "        elif num >= 10000:\n",
        "            val = '2'\n",
        "        elif num >= 1000:\n",
        "            val = '1'\n",
        "        else:\n",
        "            val = '0'\n",
        "\n",
        "    if val =='3':\n",
        "        val = val.encode('utf-8')\n",
        "        ser.write(val)\n",
        "        print('RED TURNED ON')\n",
        "        time.sleep(1)\n",
        "    \n",
        "    elif val =='2':\n",
        "        val = val.encode('utf-8')\n",
        "        ser.write(val)\n",
        "        print('ORANGE TURNED ON')\n",
        "        time.sleep(1)\n",
        "\n",
        "    elif val =='1':\n",
        "        val = val.encode('utf-8')\n",
        "        ser.write(val)\n",
        "        print('YELLOW TURNED ON')\n",
        "        time.sleep(1)\n",
        "\n",
        "    else:\n",
        "        val = val.encode('utf-8')\n",
        "        ser.write(val)\n",
        "        print('GREEN TURNED ON')\n",
        "        time.sleep(1)"
      ]
    }
  ]
}